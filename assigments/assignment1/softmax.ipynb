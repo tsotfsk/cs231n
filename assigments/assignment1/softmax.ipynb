{
 "cells": [
  {
   "cell_type": "markdown",
   "metadata": {
    "tags": [
     "pdf-title"
    ]
   },
   "source": [
    "# Softmax exercise\n",
    "\n",
    "*Complete and hand in this completed worksheet (including its outputs and any supporting code outside of the worksheet) with your assignment submission. For more details see the [assignments page](http://vision.stanford.edu/teaching/cs231n/assignments.html) on the course website.*\n",
    "\n",
    "This exercise is analogous to the SVM exercise. You will:\n",
    "\n",
    "- implement a fully-vectorized **loss function** for the Softmax classifier\n",
    "- implement the fully-vectorized expression for its **analytic gradient**\n",
    "- **check your implementation** with numerical gradient\n",
    "- use a validation set to **tune the learning rate and regularization** strength\n",
    "- **optimize** the loss function with **SGD**\n",
    "- **visualize** the final learned weights\n"
   ]
  },
  {
   "cell_type": "code",
   "execution_count": 3,
   "metadata": {
    "tags": [
     "pdf-ignore"
    ]
   },
   "outputs": [],
   "source": [
    "import random\n",
    "import numpy as np\n",
    "from cs231n.data_utils import load_CIFAR10\n",
    "import matplotlib.pyplot as plt\n",
    "\n",
    "%matplotlib inline\n",
    "plt.rcParams['figure.figsize'] = (10.0, 8.0) # set default size of plots\n",
    "plt.rcParams['image.interpolation'] = 'nearest'\n",
    "plt.rcParams['image.cmap'] = 'gray'\n",
    "\n",
    "# for auto-reloading extenrnal modules\n",
    "# see http://stackoverflow.com/questions/1907993/autoreload-of-modules-in-ipython\n",
    "%load_ext autoreload\n",
    "%autoreload 2"
   ]
  },
  {
   "cell_type": "code",
   "execution_count": 4,
   "metadata": {
    "tags": [
     "pdf-ignore"
    ]
   },
   "outputs": [
    {
     "name": "stdout",
     "output_type": "stream",
     "text": [
      "Train data shape:  (49000, 3073)\n",
      "Train labels shape:  (49000,)\n",
      "Validation data shape:  (1000, 3073)\n",
      "Validation labels shape:  (1000,)\n",
      "Test data shape:  (1000, 3073)\n",
      "Test labels shape:  (1000,)\n",
      "dev data shape:  (500, 3073)\n",
      "dev labels shape:  (500,)\n"
     ]
    }
   ],
   "source": [
    "def get_CIFAR10_data(num_training=49000, num_validation=1000, num_test=1000, num_dev=500):\n",
    "    \"\"\"\n",
    "    Load the CIFAR-10 dataset from disk and perform preprocessing to prepare\n",
    "    it for the linear classifier. These are the same steps as we used for the\n",
    "    SVM, but condensed to a single function.  \n",
    "    \"\"\"\n",
    "    # Load the raw CIFAR-10 data\n",
    "    cifar10_dir = 'cs231n/datasets/cifar-10-batches-py'\n",
    "    \n",
    "    # Cleaning up variables to prevent loading data multiple times (which may cause memory issue)\n",
    "    try:\n",
    "       del X_train, y_train\n",
    "       del X_test, y_test\n",
    "       print('Clear previously loaded data.')\n",
    "    except:\n",
    "       pass\n",
    "\n",
    "    X_train, y_train, X_test, y_test = load_CIFAR10(cifar10_dir)\n",
    "    \n",
    "    # subsample the data\n",
    "    mask = list(range(num_training, num_training + num_validation))\n",
    "    X_val = X_train[mask]\n",
    "    y_val = y_train[mask]\n",
    "    mask = list(range(num_training))\n",
    "    X_train = X_train[mask]\n",
    "    y_train = y_train[mask]\n",
    "    mask = list(range(num_test))\n",
    "    X_test = X_test[mask]\n",
    "    y_test = y_test[mask]\n",
    "    mask = np.random.choice(num_training, num_dev, replace=False)\n",
    "    X_dev = X_train[mask]\n",
    "    y_dev = y_train[mask]\n",
    "    \n",
    "    # Preprocessing: reshape the image data into rows\n",
    "    X_train = np.reshape(X_train, (X_train.shape[0], -1))\n",
    "    X_val = np.reshape(X_val, (X_val.shape[0], -1))\n",
    "    X_test = np.reshape(X_test, (X_test.shape[0], -1))\n",
    "    X_dev = np.reshape(X_dev, (X_dev.shape[0], -1))\n",
    "    \n",
    "    # Normalize the data: subtract the mean image\n",
    "    mean_image = np.mean(X_train, axis = 0)\n",
    "    X_train -= mean_image\n",
    "    X_val -= mean_image\n",
    "    X_test -= mean_image\n",
    "    X_dev -= mean_image\n",
    "    \n",
    "    # add bias dimension and transform into columns\n",
    "    X_train = np.hstack([X_train, np.ones((X_train.shape[0], 1))])\n",
    "    X_val = np.hstack([X_val, np.ones((X_val.shape[0], 1))])\n",
    "    X_test = np.hstack([X_test, np.ones((X_test.shape[0], 1))])\n",
    "    X_dev = np.hstack([X_dev, np.ones((X_dev.shape[0], 1))])\n",
    "    \n",
    "    return X_train, y_train, X_val, y_val, X_test, y_test, X_dev, y_dev\n",
    "\n",
    "\n",
    "# Invoke the above function to get our data.\n",
    "X_train, y_train, X_val, y_val, X_test, y_test, X_dev, y_dev = get_CIFAR10_data()\n",
    "print('Train data shape: ', X_train.shape)\n",
    "print('Train labels shape: ', y_train.shape)\n",
    "print('Validation data shape: ', X_val.shape)\n",
    "print('Validation labels shape: ', y_val.shape)\n",
    "print('Test data shape: ', X_test.shape)\n",
    "print('Test labels shape: ', y_test.shape)\n",
    "print('dev data shape: ', X_dev.shape)\n",
    "print('dev labels shape: ', y_dev.shape)"
   ]
  },
  {
   "cell_type": "markdown",
   "metadata": {},
   "source": [
    "## Softmax Classifier\n",
    "\n",
    "Your code for this section will all be written inside **cs231n/classifiers/softmax.py**. \n"
   ]
  },
  {
   "cell_type": "code",
   "execution_count": 5,
   "metadata": {},
   "outputs": [
    {
     "name": "stdout",
     "output_type": "stream",
     "text": [
      "loss: 2.429551\n",
      "sanity check: 2.302585\n"
     ]
    }
   ],
   "source": [
    "# First implement the naive softmax loss function with nested loops.\n",
    "# Open the file cs231n/classifiers/softmax.py and implement the\n",
    "# softmax_loss_naive function.\n",
    "\n",
    "from cs231n.classifiers.softmax import softmax_loss_naive\n",
    "import time\n",
    "\n",
    "# Generate a random softmax weight matrix and use it to compute the loss.\n",
    "W = np.random.randn(3073, 10) * 0.0001\n",
    "loss, grad = softmax_loss_naive(W, X_dev, y_dev, 0.0)\n",
    "\n",
    "# As a rough sanity check, our loss should be something close to -log(0.1).\n",
    "print('loss: %f' % loss)\n",
    "print('sanity check: %f' % (-np.log(0.1)))"
   ]
  },
  {
   "cell_type": "markdown",
   "metadata": {
    "tags": [
     "pdf-inline"
    ]
   },
   "source": [
    "**Inline Question 1**\n",
    "\n",
    "Why do we expect our loss to be close to -log(0.1)? Explain briefly.**\n",
    "\n",
    "$\\color{blue}{\\textit Your Answer:}$ 因为有10类，而我们的初始W是随机生成的，那么每一类的概率应该是1/10，所以期望loss接近log(0.1)\n",
    "\n"
   ]
  },
  {
   "cell_type": "code",
   "execution_count": 6,
   "metadata": {},
   "outputs": [
    {
     "name": "stdout",
     "output_type": "stream",
     "text": [
      "numerical: -2.485412 analytic: -2.485412, relative error: 3.618888e-08\n",
      "numerical: -3.784260 analytic: -3.784260, relative error: 3.121414e-09\n",
      "numerical: -1.357338 analytic: -1.357338, relative error: 1.997929e-08\n",
      "numerical: 1.767100 analytic: 1.767100, relative error: 2.277770e-08\n",
      "numerical: 0.449258 analytic: 0.449258, relative error: 7.059198e-09\n",
      "numerical: 1.149159 analytic: 1.149159, relative error: 2.883123e-08\n",
      "numerical: 0.895292 analytic: 0.895292, relative error: 3.291998e-08\n",
      "numerical: -1.059903 analytic: -1.059903, relative error: 2.044764e-08\n",
      "numerical: 2.114893 analytic: 2.114893, relative error: 1.217037e-08\n",
      "numerical: -1.199975 analytic: -1.199975, relative error: 8.001491e-09\n",
      "numerical: 0.926779 analytic: 0.926779, relative error: 2.747823e-08\n",
      "numerical: 0.357913 analytic: 0.357912, relative error: 7.604350e-08\n",
      "numerical: 0.323343 analytic: 0.323343, relative error: 4.183113e-08\n",
      "numerical: 0.291384 analytic: 0.291384, relative error: 1.913648e-07\n",
      "numerical: 0.579258 analytic: 0.579257, relative error: 4.365673e-08\n",
      "numerical: -0.501428 analytic: -0.501428, relative error: 1.883926e-08\n",
      "numerical: 2.130141 analytic: 2.130141, relative error: 2.825434e-08\n",
      "numerical: 2.879776 analytic: 2.879776, relative error: 3.595391e-08\n",
      "numerical: 1.970820 analytic: 1.970820, relative error: 1.756701e-08\n",
      "numerical: -0.798681 analytic: -0.798681, relative error: 3.006612e-08\n"
     ]
    }
   ],
   "source": [
    "# Complete the implementation of softmax_loss_naive and implement a (naive)\n",
    "# version of the gradient that uses nested loops.\n",
    "loss, grad = softmax_loss_naive(W, X_dev, y_dev, 0.0)\n",
    "\n",
    "# As we did for the SVM, use numeric gradient checking as a debugging tool.\n",
    "# The numeric gradient should be close to the analytic gradient.\n",
    "from cs231n.gradient_check import grad_check_sparse\n",
    "f = lambda w: softmax_loss_naive(w, X_dev, y_dev, 0.0)[0]\n",
    "grad_numerical = grad_check_sparse(f, W, grad, 10)\n",
    "\n",
    "# similar to SVM case, do another gradient check with regularization\n",
    "loss, grad = softmax_loss_naive(W, X_dev, y_dev, 5e1)\n",
    "f = lambda w: softmax_loss_naive(w, X_dev, y_dev, 5e1)[0]\n",
    "grad_numerical = grad_check_sparse(f, W, grad, 10)"
   ]
  },
  {
   "cell_type": "code",
   "execution_count": 7,
   "metadata": {},
   "outputs": [
    {
     "name": "stdout",
     "output_type": "stream",
     "text": [
      "naive loss: 2.429551e+00 computed in 0.092777s\n",
      "vectorized loss: 2.429551e+00 computed in 0.007946s\n",
      "Loss difference: 0.000000\n",
      "Gradient difference: 0.000000\n"
     ]
    }
   ],
   "source": [
    "# Now that we have a naive implementation of the softmax loss function and its gradient,\n",
    "# implement a vectorized version in softmax_loss_vectorized.\n",
    "# The two versions should compute the same results, but the vectorized version should be\n",
    "# much faster.\n",
    "tic = time.time()\n",
    "loss_naive, grad_naive = softmax_loss_naive(W, X_dev, y_dev, 0.000005)\n",
    "toc = time.time()\n",
    "print('naive loss: %e computed in %fs' % (loss_naive, toc - tic))\n",
    "\n",
    "from cs231n.classifiers.softmax import softmax_loss_vectorized\n",
    "tic = time.time()\n",
    "loss_vectorized, grad_vectorized = softmax_loss_vectorized(W, X_dev, y_dev, 0.000005)\n",
    "toc = time.time()\n",
    "print('vectorized loss: %e computed in %fs' % (loss_vectorized, toc - tic))\n",
    "\n",
    "# As we did for the SVM, we use the Frobenius norm to compare the two versions\n",
    "# of the gradient.\n",
    "grad_difference = np.linalg.norm(grad_naive - grad_vectorized, ord='fro')\n",
    "print('Loss difference: %f' % np.abs(loss_naive - loss_vectorized))\n",
    "print('Gradient difference: %f' % grad_difference)"
   ]
  },
  {
   "cell_type": "code",
   "execution_count": 10,
   "metadata": {
    "tags": [
     "code"
    ]
   },
   "outputs": [
    {
     "name": "stdout",
     "output_type": "stream",
     "text": [
      "train_acc:0.309, val_acc:0.318 , lr:1e-07, reg:25000.0\n",
      "train_acc:0.3160204081632653, val_acc:0.328 , lr:1e-07, reg:30000.0\n",
      "train_acc:0.3167142857142857, val_acc:0.336 , lr:1e-07, reg:35000.0\n",
      "train_acc:0.3140816326530612, val_acc:0.322 , lr:1e-07, reg:40000.0\n",
      "train_acc:0.30814285714285716, val_acc:0.337 , lr:1e-07, reg:45000.0\n",
      "train_acc:0.31340816326530613, val_acc:0.325 , lr:1e-07, reg:50000.0\n",
      "train_acc:0.32957142857142857, val_acc:0.336 , lr:2e-07, reg:25000.0\n",
      "train_acc:0.3306122448979592, val_acc:0.338 , lr:2e-07, reg:30000.0\n",
      "train_acc:0.3183469387755102, val_acc:0.334 , lr:2e-07, reg:35000.0\n",
      "train_acc:0.31516326530612243, val_acc:0.328 , lr:2e-07, reg:40000.0\n",
      "train_acc:0.3133673469387755, val_acc:0.331 , lr:2e-07, reg:45000.0\n",
      "train_acc:0.31087755102040815, val_acc:0.321 , lr:2e-07, reg:50000.0\n",
      "train_acc:0.3210204081632653, val_acc:0.33 , lr:3e-07, reg:25000.0\n",
      "train_acc:0.3206938775510204, val_acc:0.328 , lr:3e-07, reg:30000.0\n",
      "train_acc:0.32026530612244897, val_acc:0.337 , lr:3e-07, reg:35000.0\n",
      "train_acc:0.3080612244897959, val_acc:0.321 , lr:3e-07, reg:40000.0\n",
      "train_acc:0.3119795918367347, val_acc:0.332 , lr:3e-07, reg:45000.0\n",
      "train_acc:0.3039795918367347, val_acc:0.315 , lr:3e-07, reg:50000.0\n",
      "train_acc:0.33553061224489794, val_acc:0.349 , lr:4e-07, reg:25000.0\n",
      "train_acc:0.32277551020408163, val_acc:0.333 , lr:4e-07, reg:30000.0\n",
      "train_acc:0.32887755102040817, val_acc:0.334 , lr:4e-07, reg:35000.0\n",
      "train_acc:0.3222857142857143, val_acc:0.336 , lr:4e-07, reg:40000.0\n",
      "train_acc:0.30142857142857143, val_acc:0.314 , lr:4e-07, reg:45000.0\n",
      "train_acc:0.29177551020408166, val_acc:0.31 , lr:4e-07, reg:50000.0\n",
      "train_acc:0.318, val_acc:0.339 , lr:5e-07, reg:25000.0\n",
      "train_acc:0.32602040816326533, val_acc:0.333 , lr:5e-07, reg:30000.0\n",
      "train_acc:0.3162244897959184, val_acc:0.341 , lr:5e-07, reg:35000.0\n",
      "train_acc:0.3093265306122449, val_acc:0.327 , lr:5e-07, reg:40000.0\n",
      "train_acc:0.31081632653061225, val_acc:0.318 , lr:5e-07, reg:45000.0\n",
      "train_acc:0.299, val_acc:0.316 , lr:5e-07, reg:50000.0\n",
      "train_acc:0.3208979591836735, val_acc:0.33 , lr:6e-07, reg:25000.0\n",
      "train_acc:0.31042857142857144, val_acc:0.333 , lr:6e-07, reg:30000.0\n",
      "train_acc:0.3220204081632653, val_acc:0.343 , lr:6e-07, reg:35000.0\n",
      "train_acc:0.31979591836734694, val_acc:0.332 , lr:6e-07, reg:40000.0\n",
      "train_acc:0.3060612244897959, val_acc:0.308 , lr:6e-07, reg:45000.0\n",
      "train_acc:0.2945510204081633, val_acc:0.311 , lr:6e-07, reg:50000.0\n",
      "train_acc:0.31916326530612243, val_acc:0.342 , lr:7e-07, reg:25000.0\n",
      "train_acc:0.31924489795918365, val_acc:0.328 , lr:7e-07, reg:30000.0\n",
      "train_acc:0.29444897959183675, val_acc:0.316 , lr:7e-07, reg:35000.0\n",
      "train_acc:0.3133265306122449, val_acc:0.34 , lr:7e-07, reg:40000.0\n",
      "train_acc:0.28375510204081633, val_acc:0.3 , lr:7e-07, reg:45000.0\n",
      "train_acc:0.31289795918367347, val_acc:0.335 , lr:7e-07, reg:50000.0\n",
      "train_acc:0.32712244897959186, val_acc:0.343 , lr:8e-07, reg:25000.0\n",
      "train_acc:0.32455102040816325, val_acc:0.339 , lr:8e-07, reg:30000.0\n",
      "train_acc:0.30506122448979595, val_acc:0.321 , lr:8e-07, reg:35000.0\n",
      "train_acc:0.2806326530612245, val_acc:0.284 , lr:8e-07, reg:40000.0\n",
      "train_acc:0.29944897959183675, val_acc:0.304 , lr:8e-07, reg:45000.0\n",
      "train_acc:0.3039387755102041, val_acc:0.316 , lr:8e-07, reg:50000.0\n",
      "train_acc:0.31657142857142856, val_acc:0.331 , lr:9e-07, reg:25000.0\n",
      "train_acc:0.32126530612244897, val_acc:0.34 , lr:9e-07, reg:30000.0\n",
      "train_acc:0.3113877551020408, val_acc:0.321 , lr:9e-07, reg:35000.0\n",
      "train_acc:0.3079387755102041, val_acc:0.331 , lr:9e-07, reg:40000.0\n",
      "train_acc:0.30044897959183675, val_acc:0.332 , lr:9e-07, reg:45000.0\n",
      "train_acc:0.3046734693877551, val_acc:0.317 , lr:9e-07, reg:50000.0\n",
      "train_acc:0.32055102040816325, val_acc:0.337 , lr:1e-06, reg:25000.0\n",
      "train_acc:0.3208367346938775, val_acc:0.33 , lr:1e-06, reg:30000.0\n",
      "train_acc:0.3200408163265306, val_acc:0.321 , lr:1e-06, reg:35000.0\n",
      "train_acc:0.29318367346938773, val_acc:0.299 , lr:1e-06, reg:40000.0\n",
      "train_acc:0.2919387755102041, val_acc:0.301 , lr:1e-06, reg:45000.0\n",
      "train_acc:0.30353061224489797, val_acc:0.307 , lr:1e-06, reg:50000.0\n",
      "lr 1.000000e-07 reg 2.500000e+04 train accuracy: 0.309000 val accuracy: 0.318000\n",
      "lr 1.000000e-07 reg 3.000000e+04 train accuracy: 0.316020 val accuracy: 0.328000\n",
      "lr 1.000000e-07 reg 3.500000e+04 train accuracy: 0.316714 val accuracy: 0.336000\n",
      "lr 1.000000e-07 reg 4.000000e+04 train accuracy: 0.314082 val accuracy: 0.322000\n",
      "lr 1.000000e-07 reg 4.500000e+04 train accuracy: 0.308143 val accuracy: 0.337000\n",
      "lr 1.000000e-07 reg 5.000000e+04 train accuracy: 0.313408 val accuracy: 0.325000\n",
      "lr 2.000000e-07 reg 2.500000e+04 train accuracy: 0.329571 val accuracy: 0.336000\n",
      "lr 2.000000e-07 reg 3.000000e+04 train accuracy: 0.330612 val accuracy: 0.338000\n",
      "lr 2.000000e-07 reg 3.500000e+04 train accuracy: 0.318347 val accuracy: 0.334000\n",
      "lr 2.000000e-07 reg 4.000000e+04 train accuracy: 0.315163 val accuracy: 0.328000\n",
      "lr 2.000000e-07 reg 4.500000e+04 train accuracy: 0.313367 val accuracy: 0.331000\n",
      "lr 2.000000e-07 reg 5.000000e+04 train accuracy: 0.310878 val accuracy: 0.321000\n",
      "lr 3.000000e-07 reg 2.500000e+04 train accuracy: 0.321020 val accuracy: 0.330000\n",
      "lr 3.000000e-07 reg 3.000000e+04 train accuracy: 0.320694 val accuracy: 0.328000\n",
      "lr 3.000000e-07 reg 3.500000e+04 train accuracy: 0.320265 val accuracy: 0.337000\n",
      "lr 3.000000e-07 reg 4.000000e+04 train accuracy: 0.308061 val accuracy: 0.321000\n",
      "lr 3.000000e-07 reg 4.500000e+04 train accuracy: 0.311980 val accuracy: 0.332000\n",
      "lr 3.000000e-07 reg 5.000000e+04 train accuracy: 0.303980 val accuracy: 0.315000\n",
      "lr 4.000000e-07 reg 2.500000e+04 train accuracy: 0.335531 val accuracy: 0.349000\n",
      "lr 4.000000e-07 reg 3.000000e+04 train accuracy: 0.322776 val accuracy: 0.333000\n",
      "lr 4.000000e-07 reg 3.500000e+04 train accuracy: 0.328878 val accuracy: 0.334000\n",
      "lr 4.000000e-07 reg 4.000000e+04 train accuracy: 0.322286 val accuracy: 0.336000\n",
      "lr 4.000000e-07 reg 4.500000e+04 train accuracy: 0.301429 val accuracy: 0.314000\n",
      "lr 4.000000e-07 reg 5.000000e+04 train accuracy: 0.291776 val accuracy: 0.310000\n",
      "lr 5.000000e-07 reg 2.500000e+04 train accuracy: 0.318000 val accuracy: 0.339000\n",
      "lr 5.000000e-07 reg 3.000000e+04 train accuracy: 0.326020 val accuracy: 0.333000\n",
      "lr 5.000000e-07 reg 3.500000e+04 train accuracy: 0.316224 val accuracy: 0.341000\n",
      "lr 5.000000e-07 reg 4.000000e+04 train accuracy: 0.309327 val accuracy: 0.327000\n",
      "lr 5.000000e-07 reg 4.500000e+04 train accuracy: 0.310816 val accuracy: 0.318000\n",
      "lr 5.000000e-07 reg 5.000000e+04 train accuracy: 0.299000 val accuracy: 0.316000\n",
      "lr 6.000000e-07 reg 2.500000e+04 train accuracy: 0.320898 val accuracy: 0.330000\n",
      "lr 6.000000e-07 reg 3.000000e+04 train accuracy: 0.310429 val accuracy: 0.333000\n",
      "lr 6.000000e-07 reg 3.500000e+04 train accuracy: 0.322020 val accuracy: 0.343000\n",
      "lr 6.000000e-07 reg 4.000000e+04 train accuracy: 0.319796 val accuracy: 0.332000\n",
      "lr 6.000000e-07 reg 4.500000e+04 train accuracy: 0.306061 val accuracy: 0.308000\n",
      "lr 6.000000e-07 reg 5.000000e+04 train accuracy: 0.294551 val accuracy: 0.311000\n",
      "lr 7.000000e-07 reg 2.500000e+04 train accuracy: 0.319163 val accuracy: 0.342000\n",
      "lr 7.000000e-07 reg 3.000000e+04 train accuracy: 0.319245 val accuracy: 0.328000\n",
      "lr 7.000000e-07 reg 3.500000e+04 train accuracy: 0.294449 val accuracy: 0.316000\n",
      "lr 7.000000e-07 reg 4.000000e+04 train accuracy: 0.313327 val accuracy: 0.340000\n",
      "lr 7.000000e-07 reg 4.500000e+04 train accuracy: 0.283755 val accuracy: 0.300000\n",
      "lr 7.000000e-07 reg 5.000000e+04 train accuracy: 0.312898 val accuracy: 0.335000\n",
      "lr 8.000000e-07 reg 2.500000e+04 train accuracy: 0.327122 val accuracy: 0.343000\n",
      "lr 8.000000e-07 reg 3.000000e+04 train accuracy: 0.324551 val accuracy: 0.339000\n",
      "lr 8.000000e-07 reg 3.500000e+04 train accuracy: 0.305061 val accuracy: 0.321000\n",
      "lr 8.000000e-07 reg 4.000000e+04 train accuracy: 0.280633 val accuracy: 0.284000\n",
      "lr 8.000000e-07 reg 4.500000e+04 train accuracy: 0.299449 val accuracy: 0.304000\n",
      "lr 8.000000e-07 reg 5.000000e+04 train accuracy: 0.303939 val accuracy: 0.316000\n",
      "lr 9.000000e-07 reg 2.500000e+04 train accuracy: 0.316571 val accuracy: 0.331000\n",
      "lr 9.000000e-07 reg 3.000000e+04 train accuracy: 0.321265 val accuracy: 0.340000\n",
      "lr 9.000000e-07 reg 3.500000e+04 train accuracy: 0.311388 val accuracy: 0.321000\n",
      "lr 9.000000e-07 reg 4.000000e+04 train accuracy: 0.307939 val accuracy: 0.331000\n",
      "lr 9.000000e-07 reg 4.500000e+04 train accuracy: 0.300449 val accuracy: 0.332000\n",
      "lr 9.000000e-07 reg 5.000000e+04 train accuracy: 0.304673 val accuracy: 0.317000\n",
      "lr 1.000000e-06 reg 2.500000e+04 train accuracy: 0.320551 val accuracy: 0.337000\n",
      "lr 1.000000e-06 reg 3.000000e+04 train accuracy: 0.320837 val accuracy: 0.330000\n",
      "lr 1.000000e-06 reg 3.500000e+04 train accuracy: 0.320041 val accuracy: 0.321000\n",
      "lr 1.000000e-06 reg 4.000000e+04 train accuracy: 0.293184 val accuracy: 0.299000\n",
      "lr 1.000000e-06 reg 4.500000e+04 train accuracy: 0.291939 val accuracy: 0.301000\n",
      "lr 1.000000e-06 reg 5.000000e+04 train accuracy: 0.303531 val accuracy: 0.307000\n",
      "best validation accuracy achieved during cross-validation: 0.349000\n"
     ]
    }
   ],
   "source": [
    "# Use the validation set to tune hyperparameters (regularization strength and\n",
    "# learning rate). You should experiment with different ranges for the learning\n",
    "# rates and regularization strengths; if you are careful you should be able to\n",
    "# get a classification accuracy of over 0.35 on the validation set.\n",
    "from cs231n.classifiers import Softmax\n",
    "results = {}\n",
    "best_val = -1\n",
    "best_softmax = None\n",
    "learning_rates = [1e-7, 5e-7]\n",
    "regularization_strengths = [2.5e4, 5e4]\n",
    "\n",
    "################################################################################\n",
    "# TODO:                                                                        #\n",
    "# Use the validation set to set the learning rate and regularization strength. #\n",
    "# This should be identical to the validation that you did for the SVM; save    #\n",
    "# the best trained softmax classifer in best_softmax.                          #\n",
    "################################################################################\n",
    "# *****START OF YOUR CODE (DO NOT DELETE/MODIFY THIS LINE)*****\n",
    "\n",
    "lr, reg = 1e-7, 2.5e4\n",
    "while lr <= 1e-6:\n",
    "    while reg <= 5e4:\n",
    "        # 训练\n",
    "        softmax = Softmax()\n",
    "        softmax.train(X_train, y_train, learning_rate=lr, reg=reg,\n",
    "        num_iters=500, verbose=False)\n",
    "        \n",
    "        # 在train和val上预测,得到准确率\n",
    "        y_train_pred = softmax.predict(X_train)\n",
    "        train_acc = np.mean(y_train == y_train_pred)\n",
    "        y_val_pred = softmax.predict(X_val)\n",
    "        val_acc = np.mean(y_val == y_val_pred)\n",
    "        \n",
    "        \n",
    "        results[(lr, reg)] = (train_acc, val_acc)\n",
    "        \n",
    "        print(\"train_acc:{}, val_acc:{} , lr:{}, reg:{}\".format(train_acc, val_acc, lr, reg))\n",
    "        if val_acc >  best_val:\n",
    "            best_val = val_acc\n",
    "            best_softmax = softmax\n",
    "            \n",
    "        reg += 5e3\n",
    "    reg = 2.5e4\n",
    "    lr += 1e-7\n",
    "\n",
    "# *****END OF YOUR CODE (DO NOT DELETE/MODIFY THIS LINE)*****\n",
    "    \n",
    "# Print out results.\n",
    "for lr, reg in sorted(results):\n",
    "    train_accuracy, val_accuracy = results[(lr, reg)]\n",
    "    print('lr %e reg %e train accuracy: %f val accuracy: %f' % (\n",
    "                lr, reg, train_accuracy, val_accuracy))\n",
    "    \n",
    "print('best validation accuracy achieved during cross-validation: %f' % best_val)"
   ]
  },
  {
   "cell_type": "code",
   "execution_count": 11,
   "metadata": {},
   "outputs": [
    {
     "name": "stdout",
     "output_type": "stream",
     "text": [
      "softmax on raw pixels final test set accuracy: 0.342000\n"
     ]
    }
   ],
   "source": [
    "# evaluate on test set\n",
    "# Evaluate the best softmax on test set\n",
    "y_test_pred = best_softmax.predict(X_test)\n",
    "test_accuracy = np.mean(y_test == y_test_pred)\n",
    "print('softmax on raw pixels final test set accuracy: %f' % (test_accuracy, ))"
   ]
  },
  {
   "cell_type": "markdown",
   "metadata": {
    "tags": [
     "pdf-inline"
    ]
   },
   "source": [
    "**Inline Question 2** - *True or False*\n",
    "\n",
    "Suppose the overall training loss is defined as the sum of the per-datapoint loss over all training examples. It is possible to add a new datapoint to a training set that would leave the SVM loss unchanged, but this is not the case with the Softmax classifier loss.\n",
    "\n",
    "$\\color{blue}{\\textit Your Answer:}$False\n",
    "\n",
    "\n",
    "$\\color{blue}{\\textit Your Explanation:}$两者都可以使得loss不变，SVMloss为0时,即2分类，且数据量为1时，再加入一个可能使loss依然为0，而softmax同理，只需概率上各为0.5即可。\n",
    "\n"
   ]
  },
  {
   "cell_type": "code",
   "execution_count": 12,
   "metadata": {},
   "outputs": [
    {
     "data": {
      "image/png": "[encoded data removed]",
      "text/plain": [
       "<Figure size 432x288 with 10 Axes>"
      ]
     },
     "metadata": {
      "needs_background": "light"
     },
     "output_type": "display_data"
    }
   ],
   "source": [
    "# Visualize the learned weights for each class\n",
    "w = best_softmax.W[:-1,:] # strip out the bias\n",
    "w = w.reshape(32, 32, 3, 10)\n",
    "\n",
    "w_min, w_max = np.min(w), np.max(w)\n",
    "\n",
    "classes = ['plane', 'car', 'bird', 'cat', 'deer', 'dog', 'frog', 'horse', 'ship', 'truck']\n",
    "for i in range(10):\n",
    "    plt.subplot(2, 5, i + 1)\n",
    "    \n",
    "    # Rescale the weights to be between 0 and 255\n",
    "    wimg = 255.0 * (w[:, :, :, i].squeeze() - w_min) / (w_max - w_min)\n",
    "    plt.imshow(wimg.astype('uint8'))\n",
    "    plt.axis('off')\n",
    "    plt.title(classes[i])"
   ]
  },
  {
   "cell_type": "code",
   "execution_count": null,
   "metadata": {},
   "outputs": [],
   "source": []
  }
 ],
 "metadata": {
  "kernelspec": {
   "display_name": "Python 3",
   "language": "python",
   "name": "python3"
  },
  "language_info": {
   "codemirror_mode": {
    "name": "ipython",
    "version": 3
   },
   "file_extension": ".py",
   "mimetype": "text/x-python",
   "name": "python",
   "nbconvert_exporter": "python",
   "pygments_lexer": "ipython3",
   "version": "3.7.3"
  }
 },
 "nbformat": 4,
 "nbformat_minor": 2
}
